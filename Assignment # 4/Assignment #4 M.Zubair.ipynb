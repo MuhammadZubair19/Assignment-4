{
 "cells": [
  {
   "cell_type": "code",
   "execution_count": 4,
   "id": "b6d5f75d",
   "metadata": {},
   "outputs": [
    {
     "name": "stdout",
     "output_type": "stream",
     "text": [
      "1.Addition\n",
      "2.Subtraction\n",
      "3.Multiplication\n",
      "4.Division\n",
      "5.Power\n",
      "Enter your choice(1/2/3/4/5): 3\n",
      "Enter first number: 2\n",
      "Enter second number: 9\n",
      "2.0 * 9.0 = 18.0\n",
      "Type no for calculation end : no\n",
      "Program Ended\n"
     ]
    }
   ],
   "source": [
    "# 1. Make a calculator using Python with addition , subtraction , multiplication ,division and power?\n",
    "\n",
    "print(\"1.Addition\")\n",
    "print(\"2.Subtraction\")\n",
    "print(\"3.Multiplication\")\n",
    "print(\"4.Division\")\n",
    "print(\"5.Power\")\n",
    "number = input(\"Enter your choice(1/2/3/4/5): \")\n",
    "if number in ('1', '2', '3', '4', '5'):\n",
    "    num1 = float(input(\"Enter first number: \"))\n",
    "    num2 = float(input(\"Enter second number: \"))\n",
    "if number == '1':\n",
    "    print(num1, \"+\", num2, \"=\", (num1+num2))\n",
    "elif number == '2':\n",
    "    print(num1, \"-\", num2, \"=\", (num1-num2))\n",
    "elif number == '3':\n",
    "    print(num1, \"*\", num2, \"=\", (num1*num2))\n",
    "elif number == '4':\n",
    "    print(num1, \"/\", num2, \"=\", (num1/num2))    \n",
    "elif number == '5':\n",
    "    print(num1, \"**\", num2, \"=\", (num1**num2))\n",
    "# check if user wants another calculation\n",
    "next_calculation = input(\"Type no for calculation end : \")\n",
    "if next_calculation == \"no\":\n",
    "    print(\"Program Ended\")"
   ]
  },
  {
   "cell_type": "code",
   "execution_count": 1,
   "id": "89777336",
   "metadata": {},
   "outputs": [
    {
     "name": "stdout",
     "output_type": "stream",
     "text": [
      "10\n",
      "5\n",
      "88\n"
     ]
    }
   ],
   "source": [
    "# 2. Write a program to check if there is any numeric value in list using for loop?\n",
    "\n",
    "lst = [\"ali\",10,\"bilal\",5,\"ahmed\",88];\n",
    "for x in lst:\n",
    "    if type(x) == int:\n",
    "        print(x)"
   ]
  },
  {
   "cell_type": "code",
   "execution_count": 32,
   "id": "50ad5cec",
   "metadata": {},
   "outputs": [
    {
     "name": "stdout",
     "output_type": "stream",
     "text": [
      "{0: 30, 1: 50}\n",
      "{0: 30, 1: 50, 2: 60}\n"
     ]
    }
   ],
   "source": [
    "# 3. Write a Python script to add a key to a dictionary?\n",
    "\n",
    "d = {0:30, 1:50}\n",
    "print(d)\n",
    "d.update({2:60})\n",
    "print(d)"
   ]
  },
  {
   "cell_type": "code",
   "execution_count": 1,
   "id": "f7972543",
   "metadata": {},
   "outputs": [
    {
     "name": "stdout",
     "output_type": "stream",
     "text": [
      "276\n"
     ]
    }
   ],
   "source": [
    "# 4. Write a Python program to sum all the numeric items in a dictionary?\n",
    "\n",
    "my_dict = {'data1':200,'data2':66,'data3':10}\n",
    "data = my_dict.values()\n",
    "print(sum(data))"
   ]
  },
  {
   "cell_type": "code",
   "execution_count": 5,
   "id": "fb1493e0",
   "metadata": {},
   "outputs": [
    {
     "name": "stdout",
     "output_type": "stream",
     "text": [
      "1\n",
      "0\n"
     ]
    }
   ],
   "source": [
    "# 5. Write a program to identify duplicate values from list?\n",
    "\n",
    "numerics = [0,1,2,4,1,0,9,5]\n",
    "duplicate = []\n",
    "for i in numerics:\n",
    "    if i not in duplicate:\n",
    "        duplicate.append(i)\n",
    "    else:\n",
    "        print(i)"
   ]
  },
  {
   "cell_type": "code",
   "execution_count": 3,
   "id": "c5c4f200",
   "metadata": {},
   "outputs": [
    {
     "name": "stdout",
     "output_type": "stream",
     "text": [
      "Entern Your Key : name\n",
      "Key Already Exists\n"
     ]
    }
   ],
   "source": [
    "# 6. Write a Python script to check if a given key already exists in a dictionary\n",
    "\n",
    "dict_1 = {\"name\": \"Zubair\", \"age\":18, \"email\":\"zubair@gmail.com\"}\n",
    "input1 = input(\"Entern Your Key : \")\n",
    "if input1 in dict_1:\n",
    "    print(\"Key Already Exists\")\n",
    "else:\n",
    "    print(\"Key Does not Exist\")"
   ]
  },
  {
   "cell_type": "code",
   "execution_count": null,
   "id": "69513f60",
   "metadata": {},
   "outputs": [],
   "source": []
  },
  {
   "cell_type": "code",
   "execution_count": null,
   "id": "d6c43319",
   "metadata": {},
   "outputs": [],
   "source": []
  },
  {
   "cell_type": "code",
   "execution_count": null,
   "id": "10a780d2",
   "metadata": {},
   "outputs": [],
   "source": []
  }
 ],
 "metadata": {
  "kernelspec": {
   "display_name": "Python 3",
   "language": "python",
   "name": "python3"
  },
  "language_info": {
   "codemirror_mode": {
    "name": "ipython",
    "version": 3
   },
   "file_extension": ".py",
   "mimetype": "text/x-python",
   "name": "python",
   "nbconvert_exporter": "python",
   "pygments_lexer": "ipython3",
   "version": "3.8.8"
  }
 },
 "nbformat": 4,
 "nbformat_minor": 5
}
